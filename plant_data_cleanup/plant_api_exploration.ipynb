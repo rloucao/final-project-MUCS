{
 "cells": [
  {
   "cell_type": "code",
   "execution_count": 1,
   "id": "d1a5f368",
   "metadata": {},
   "outputs": [],
   "source": [
    "import requests\n",
    "import pandas as pd\n",
    "import json\n",
    "import warnings\n",
    "\n",
    "import os"
   ]
  },
  {
   "cell_type": "code",
   "execution_count": 2,
   "id": "c4fcc8d0",
   "metadata": {},
   "outputs": [],
   "source": [
    "PERENUAL_API_URL = \"https://perenual.com/api/v2/species/details\"\n",
    "PERENUAL_API_KEY = \"sk-CIqR67f7e96325b299717\""
   ]
  },
  {
   "cell_type": "code",
   "execution_count": 3,
   "id": "c04fe9d4",
   "metadata": {},
   "outputs": [
    {
     "name": "stdout",
     "output_type": "stream",
     "text": [
      "requesting https://perenual.com/api/v2/species/details/8836?key=sk-CIqR67f7e96325b299717\n"
     ]
    }
   ],
   "source": [
    "plant_id = 8836\n",
    "url = f\"{PERENUAL_API_URL}/{plant_id}?key={PERENUAL_API_KEY}\"\n",
    "print(f\"requesting {url}\")\n",
    "\n",
    "payload = {}\n",
    "headers = {}\n",
    "\n",
    "response = requests.request(\"GET\", url, headers=headers, data=payload)"
   ]
  },
  {
   "cell_type": "code",
   "execution_count": 4,
   "id": "89001a44",
   "metadata": {},
   "outputs": [
    {
     "name": "stdout",
     "output_type": "stream",
     "text": [
      "Please Upgrade Plan - https://perenual.com/subscription-api-pricing. Sorry😬\n"
     ]
    }
   ],
   "source": [
    "print(response.text)"
   ]
  }
 ],
 "metadata": {
  "kernelspec": {
   "display_name": "Python 3",
   "language": "python",
   "name": "python3"
  },
  "language_info": {
   "codemirror_mode": {
    "name": "ipython",
    "version": 3
   },
   "file_extension": ".py",
   "mimetype": "text/x-python",
   "name": "python",
   "nbconvert_exporter": "python",
   "pygments_lexer": "ipython3",
   "version": "3.12.7"
  }
 },
 "nbformat": 4,
 "nbformat_minor": 5
}

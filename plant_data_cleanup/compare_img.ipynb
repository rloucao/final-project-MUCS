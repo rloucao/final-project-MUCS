{
 "cells": [
  {
   "cell_type": "code",
   "execution_count": 5,
   "id": "00a1ba0d",
   "metadata": {},
   "outputs": [],
   "source": [
    "import requests\n",
    "import pandas as pd\n",
    "import json\n",
    "import warnings\n",
    "from tqdm import tqdm\n",
    "\n",
    "import os"
   ]
  },
  {
   "cell_type": "code",
   "execution_count": 11,
   "id": "01e965f5",
   "metadata": {},
   "outputs": [
    {
     "name": "stdout",
     "output_type": "stream",
     "text": [
      "load from c:\\Users\\steph\\OneDrive\\Studium_Uni_Tuebingen\\Master Informatik\\01_SCMU\\Project\\plant_img\\small\n",
      "['1001.jpg', '1023.jpg', '1024.jpg', '1025.jpg', '1031.jpg', '1036.jpg', '1038.jpg', '1130.jpg', '1133.jpg', '1147.jpg', '1149.jpg', '1150.jpg', '1192.jpg', '1195.jpg', '1196.jpg', '1197.jpg', '1198.jpg', '1199.jpg', '1203.jpg', '1208.jpg', '1209.jpg', '1211.jpg', '1212.jpg', '1213.jpg', '1214.jpg', '1215.jpg', '1216.jpg', '1217.jpg', '1218.jpg', '1219.jpg', '1220.jpg', '1222.jpg', '1223.jpg', '1224.jpg', '1226.jpg', '1272.jpg', '1457.jpg', '1469.jpg', '1470.jpg', '1471.jpg', '1597.jpg', '1603.jpg', '1716.jpg', '1820.jpg', '1821.jpg', '1822.jpg', '1845.jpg', '1846.jpg', '1847.jpg', '1848.jpg', '1855.jpg', '1864.jpg', '1868.jpg', '1873.jpg', '1891.jpg', '1971.jpg', '1993.jpg', '1999.jpg', '2000.jpg', '2030.jpg', '2193.jpg', '2242.jpg', '2244.jpg', '2263.jpg', '2272.jpg', '2274.jpg', '2275.jpg', '2288.jpg', '2289.jpg', '2290.jpg', '2294.jpg', '2295.jpg', '2322.jpg', '2323.jpg', '2354.jpg', '2468.jpg', '2498.jpg', '2501.jpg', '2528.jpg', '2529.jpg', '2530.jpg', '2531.jpg', '2532.jpg', '2533.jpg', '2568.jpg', '2773.jpg', '2774.jpg', '2775.jpg', '2829.jpg', '2885.jpg', '2891.jpg', '2915.jpg', '2954.jpg', '2955.jpg', '2956.jpg', '2957.jpg', '2958.jpg', '2959.jpg', '2961.jpg', '2962.jpg', '2963.jpg', '2965.jpg', '2976.jpg', '425.jpg', '426.jpg', '427.jpg', '428.jpg', '434.jpg', '540.jpg', '543.jpg', '546.jpg', '549.jpg', '551.jpg', '552.jpg', '625.jpg', '626.jpg', '628.jpg', '667.jpg', '710.jpg', '711.jpg', '712.jpg', '713.jpg', '714.jpg', '715.jpg', '717.jpg', '721.jpg', '727.jpg', '728.jpg', '747.jpg', '855.jpg', '856.jpg', '861.jpg']\n"
     ]
    }
   ],
   "source": [
    "data_path = os.path.join(os.getcwd(), 'plant_img', 'small')\n",
    "print(f\"load from {data_path}\")\n",
    "\n",
    "files = os.listdir(data_path)\n",
    "files.sort()\n",
    "\n",
    "print(files)"
   ]
  },
  {
   "cell_type": "code",
   "execution_count": null,
   "id": "06af7a38",
   "metadata": {},
   "outputs": [
    {
     "name": "stdout",
     "output_type": "stream",
     "text": [
      "['1001.jpg', '1023.jpg', '1024.jpg', '1025.jpg', '1031.jpg', '1036.jpg', '1038.jpg', '1130.jpg', '1133.jpg', '1147.jpg', '1149.jpg', '1150.jpg', '1192.jpg', '1195.jpg', '1196.jpg', '1197.jpg', '1198.jpg', '1199.jpg', '1203.jpg', '1208.jpg', '1209.jpg', '1211.jpg', '1212.jpg', '1213.jpg', '1214.jpg', '1215.jpg', '1216.jpg', '1217.jpg', '1218.jpg', '1219.jpg', '1220.jpg', '1222.jpg', '1223.jpg', '1224.jpg', '1226.jpg', '1272.jpg', '1457.jpg', '1469.jpg', '1470.jpg', '1471.jpg', '1597.jpg', '1603.jpg', '1716.jpg', '1820.jpg', '1821.jpg', '1822.jpg', '1845.jpg', '1846.jpg', '1847.jpg', '1848.jpg', '1855.jpg', '1864.jpg', '1868.jpg', '1873.jpg', '1891.jpg', '1971.jpg', '1993.jpg', '1999.jpg', '2000.jpg', '2030.jpg', '2193.jpg', '2242.jpg', '2244.jpg', '2263.jpg', '2272.jpg', '2274.jpg', '2275.jpg', '2288.jpg', '2289.jpg', '2290.jpg', '2294.jpg', '2295.jpg', '2322.jpg', '2323.jpg', '2354.jpg', '2468.jpg', '2498.jpg', '2501.jpg', '2528.jpg', '2529.jpg', '2530.jpg', '2531.jpg', '2532.jpg', '2533.jpg', '2568.jpg', '2773.jpg', '2774.jpg', '2775.jpg', '2829.jpg', '2885.jpg', '2891.jpg', '2915.jpg', '2954.jpg', '2955.jpg', '2956.jpg', '2957.jpg', '2958.jpg', '2959.jpg', '2961.jpg', '2962.jpg', '2963.jpg', '2965.jpg', '2976.jpg', '425.jpg', '426.jpg', '427.jpg', '428.jpg', '434.jpg', '540.jpg', '543.jpg', '546.jpg', '549.jpg', '551.jpg', '552.jpg', '625.jpg', '626.jpg', '628.jpg', '667.jpg', '710.jpg', '711.jpg', '712.jpg', '713.jpg', '714.jpg', '715.jpg', '717.jpg', '721.jpg', '727.jpg', '728.jpg', '747.jpg', '855.jpg', '856.jpg', '861.jpg']\n"
     ]
    },
    {
     "name": "stderr",
     "output_type": "stream",
     "text": [
      " 99%|█████████▉| 131/132 [00:00<00:00, 246.38it/s]"
     ]
    },
    {
     "name": "stdout",
     "output_type": "stream",
     "text": [
      "1845\t1848\n"
     ]
    },
    {
     "name": "stderr",
     "output_type": "stream",
     "text": [
      "\n"
     ]
    }
   ],
   "source": [
    "duplicates = []\n",
    "\n",
    "for i, file in enumerate(tqdm(files)):\n",
    "    file1_id = int(file.split('.')[0])\n",
    "\n",
    "    # load image\n",
    "    img_path = os.path.join(data_path, file)\n",
    "    with open(img_path, 'rb') as f:\n",
    "        img1 = f.read()\n",
    "\n",
    "    if i == len(files) - 1:\n",
    "        break\n",
    "\n",
    "    for j in range(i+1, len(files)):\n",
    "        file2_id = int(files[j].split('.')[0])\n",
    "\n",
    "        # load image\n",
    "        img_path = os.path.join(data_path, files[j])\n",
    "        with open(img_path, 'rb') as f:\n",
    "            img2 = f.read()\n",
    "\n",
    "        # compare images pixel by pixel\n",
    "        if img1 == img2:\n",
    "            duplicates.append((file1_id, file2_id))\n",
    "\n",
    "# print duplicates\n",
    "for dup in duplicates:\n",
    "    print(f\"{dup[0]}\\t{dup[1]}\")"
   ]
  }
 ],
 "metadata": {
  "kernelspec": {
   "display_name": "Python 3",
   "language": "python",
   "name": "python3"
  },
  "language_info": {
   "codemirror_mode": {
    "name": "ipython",
    "version": 3
   },
   "file_extension": ".py",
   "mimetype": "text/x-python",
   "name": "python",
   "nbconvert_exporter": "python",
   "pygments_lexer": "ipython3",
   "version": "3.12.7"
  }
 },
 "nbformat": 4,
 "nbformat_minor": 5
}

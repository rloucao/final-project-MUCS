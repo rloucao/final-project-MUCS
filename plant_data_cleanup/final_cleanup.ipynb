{
 "cells": [
  {
   "cell_type": "code",
   "execution_count": 16,
   "id": "532804ae",
   "metadata": {},
   "outputs": [],
   "source": [
    "import requests\n",
    "import pandas as pd\n",
    "import json\n",
    "import warnings\n",
    "\n",
    "import os"
   ]
  },
  {
   "cell_type": "code",
   "execution_count": 17,
   "id": "25423edf",
   "metadata": {},
   "outputs": [
    {
     "name": "stdout",
     "output_type": "stream",
     "text": [
      "Loaded 359 entries from c:\\Users\\steph\\OneDrive\\Studium_Uni_Tuebingen\\Master Informatik\\01_SCMU\\Project\\plant_list.csv.\n"
     ]
    }
   ],
   "source": [
    "# load .csv files to pandas dataframe\n",
    "CUR_DIR = os.getcwd()\n",
    "DB_LIST_PATH = os.path.join(CUR_DIR, 'plant_list.csv')\n",
    "DB_LIST_ENTRIES = ['id', 'common_name', 'scientific_name', 'other_name', 'family', 'hybrid', 'authority', 'subspecies', 'cultivar', 'variety', 'species_epithet', 'genus', 'regular_url', 'medium_url', 'small_url', 'thumbnail']\n",
    "\n",
    "# check if file exists and load it, else create a new dataframe\n",
    "if os.path.exists(DB_LIST_PATH):\n",
    "    plant_list_df = pd.read_csv(DB_LIST_PATH)\n",
    "    # print number of rows\n",
    "    print(f\"Loaded {len(plant_list_df)} entries from {DB_LIST_PATH}.\")\n",
    "else:\n",
    "    print(\"No plant list found.\")"
   ]
  },
  {
   "cell_type": "code",
   "execution_count": 18,
   "id": "0e42d625",
   "metadata": {},
   "outputs": [
    {
     "name": "stdout",
     "output_type": "stream",
     "text": [
      "Found 132 images in c:\\Users\\steph\\OneDrive\\Studium_Uni_Tuebingen\\Master Informatik\\01_SCMU\\Project\\plant_img\\small.\n"
     ]
    }
   ],
   "source": [
    "# load image names from folder\n",
    "image_folder = os.path.join(CUR_DIR, 'plant_img', 'small')\n",
    "image_names = os.listdir(image_folder)\n",
    "# remove file extension from image names\n",
    "image_names = [int(os.path.splitext(name)[0]) for name in image_names]\n",
    "\n",
    "print(f\"Found {len(image_names)} images in {image_folder}.\")"
   ]
  },
  {
   "cell_type": "code",
   "execution_count": 19,
   "id": "e52556c6",
   "metadata": {},
   "outputs": [],
   "source": [
    "new_plant_list_df = plant_list_df[plant_list_df['id'].isin(image_names)].copy()"
   ]
  },
  {
   "cell_type": "code",
   "execution_count": 20,
   "id": "b342cd02",
   "metadata": {},
   "outputs": [
    {
     "name": "stdout",
     "output_type": "stream",
     "text": [
      "Filtered plant list saved to c:\\Users\\steph\\OneDrive\\Studium_Uni_Tuebingen\\Master Informatik\\01_SCMU\\Project\\filtered_plant_list.csv.\n"
     ]
    }
   ],
   "source": [
    "# save the new dataframe to a new csv file\n",
    "new_plant_list_path = os.path.join(CUR_DIR, 'filtered_plant_list.csv')\n",
    "new_plant_list_df.to_csv(new_plant_list_path, index=False)\n",
    "print(f\"Filtered plant list saved to {new_plant_list_path}.\")"
   ]
  }
 ],
 "metadata": {
  "kernelspec": {
   "display_name": "Python 3",
   "language": "python",
   "name": "python3"
  },
  "language_info": {
   "codemirror_mode": {
    "name": "ipython",
    "version": 3
   },
   "file_extension": ".py",
   "mimetype": "text/x-python",
   "name": "python",
   "nbconvert_exporter": "python",
   "pygments_lexer": "ipython3",
   "version": "3.12.7"
  }
 },
 "nbformat": 4,
 "nbformat_minor": 5
}

{
 "cells": [
  {
   "cell_type": "code",
   "execution_count": 1,
   "id": "9b03a473",
   "metadata": {},
   "outputs": [],
   "source": [
    "import requests\n",
    "import pandas as pd\n",
    "import json\n",
    "import warnings\n",
    "\n",
    "import os"
   ]
  },
  {
   "cell_type": "code",
   "execution_count": 2,
   "id": "6d292624",
   "metadata": {},
   "outputs": [
    {
     "name": "stdout",
     "output_type": "stream",
     "text": [
      "Loaded 132 entries from c:\\Users\\steph\\OneDrive\\Studium_Uni_Tuebingen\\Master Informatik\\01_SCMU\\Project\\filtered_plant_list.csv.\n"
     ]
    }
   ],
   "source": [
    "# load .csv files to pandas dataframe\n",
    "CUR_DIR = os.getcwd()\n",
    "DB_LIST_PATH = os.path.join(CUR_DIR, 'filtered_plant_list.csv')\n",
    "\n",
    "\n",
    "# check if file exists and load it, else create a new dataframe\n",
    "if os.path.exists(DB_LIST_PATH):\n",
    "    plant_list_df = pd.read_csv(DB_LIST_PATH)\n",
    "    # print number of rows\n",
    "    print(f\"Loaded {len(plant_list_df)} entries from {DB_LIST_PATH}.\")\n",
    "else:\n",
    "    print(\"No plant list found.\")"
   ]
  },
  {
   "cell_type": "code",
   "execution_count": 3,
   "id": "e58778e2",
   "metadata": {},
   "outputs": [
    {
     "name": "stdout",
     "output_type": "stream",
     "text": [
      "Found 32 entries to be downloaded.\n"
     ]
    }
   ],
   "source": [
    "JSON_DATA_PATH = os.path.join(CUR_DIR, 'plant_details')\n",
    "\n",
    "# read filenames from JSON_DATA_PATH directory, remove extension and store in a list\n",
    "filenames = os.listdir(JSON_DATA_PATH)\n",
    "filenames = [int(os.path.splitext(filename)[0]) for filename in filenames]\n",
    "\n",
    "ids_in_list = plant_list_df['id'].tolist()\n",
    "# remove ids in filemames from ids_in_list\n",
    "ids_in_list = [id for id in ids_in_list if id not in filenames]\n",
    "print(f\"Found {len(ids_in_list)} entries to be downloaded.\")\n"
   ]
  },
  {
   "cell_type": "code",
   "execution_count": 4,
   "id": "48e8ee5a",
   "metadata": {},
   "outputs": [
    {
     "name": "stdout",
     "output_type": "stream",
     "text": [
      "requesting https://perenual.com/api/v2/species/details/2295?key=sk-CIqR67f7e96325b299717\n",
      "Saved 2295.json\n",
      "requesting https://perenual.com/api/v2/species/details/2322?key=sk-CIqR67f7e96325b299717\n",
      "Saved 2322.json\n",
      "requesting https://perenual.com/api/v2/species/details/2323?key=sk-CIqR67f7e96325b299717\n",
      "Saved 2323.json\n",
      "requesting https://perenual.com/api/v2/species/details/2354?key=sk-CIqR67f7e96325b299717\n",
      "Saved 2354.json\n",
      "requesting https://perenual.com/api/v2/species/details/2468?key=sk-CIqR67f7e96325b299717\n",
      "Saved 2468.json\n",
      "requesting https://perenual.com/api/v2/species/details/2498?key=sk-CIqR67f7e96325b299717\n",
      "Saved 2498.json\n",
      "requesting https://perenual.com/api/v2/species/details/2501?key=sk-CIqR67f7e96325b299717\n",
      "Saved 2501.json\n",
      "requesting https://perenual.com/api/v2/species/details/2528?key=sk-CIqR67f7e96325b299717\n",
      "Saved 2528.json\n",
      "requesting https://perenual.com/api/v2/species/details/2529?key=sk-CIqR67f7e96325b299717\n",
      "Saved 2529.json\n",
      "requesting https://perenual.com/api/v2/species/details/2530?key=sk-CIqR67f7e96325b299717\n",
      "Saved 2530.json\n",
      "requesting https://perenual.com/api/v2/species/details/2531?key=sk-CIqR67f7e96325b299717\n",
      "Saved 2531.json\n",
      "requesting https://perenual.com/api/v2/species/details/2532?key=sk-CIqR67f7e96325b299717\n",
      "Saved 2532.json\n",
      "requesting https://perenual.com/api/v2/species/details/2533?key=sk-CIqR67f7e96325b299717\n",
      "Saved 2533.json\n",
      "requesting https://perenual.com/api/v2/species/details/2568?key=sk-CIqR67f7e96325b299717\n",
      "Saved 2568.json\n",
      "requesting https://perenual.com/api/v2/species/details/2773?key=sk-CIqR67f7e96325b299717\n",
      "Saved 2773.json\n",
      "requesting https://perenual.com/api/v2/species/details/2774?key=sk-CIqR67f7e96325b299717\n",
      "Saved 2774.json\n",
      "requesting https://perenual.com/api/v2/species/details/2775?key=sk-CIqR67f7e96325b299717\n",
      "Saved 2775.json\n",
      "requesting https://perenual.com/api/v2/species/details/2829?key=sk-CIqR67f7e96325b299717\n",
      "Saved 2829.json\n",
      "requesting https://perenual.com/api/v2/species/details/2885?key=sk-CIqR67f7e96325b299717\n",
      "Saved 2885.json\n",
      "requesting https://perenual.com/api/v2/species/details/2891?key=sk-CIqR67f7e96325b299717\n",
      "Saved 2891.json\n",
      "requesting https://perenual.com/api/v2/species/details/2915?key=sk-CIqR67f7e96325b299717\n",
      "Saved 2915.json\n",
      "requesting https://perenual.com/api/v2/species/details/2954?key=sk-CIqR67f7e96325b299717\n",
      "Saved 2954.json\n",
      "requesting https://perenual.com/api/v2/species/details/2955?key=sk-CIqR67f7e96325b299717\n",
      "Saved 2955.json\n",
      "requesting https://perenual.com/api/v2/species/details/2956?key=sk-CIqR67f7e96325b299717\n",
      "Saved 2956.json\n",
      "requesting https://perenual.com/api/v2/species/details/2957?key=sk-CIqR67f7e96325b299717\n",
      "Saved 2957.json\n",
      "requesting https://perenual.com/api/v2/species/details/2958?key=sk-CIqR67f7e96325b299717\n",
      "Saved 2958.json\n",
      "requesting https://perenual.com/api/v2/species/details/2959?key=sk-CIqR67f7e96325b299717\n",
      "Saved 2959.json\n",
      "requesting https://perenual.com/api/v2/species/details/2961?key=sk-CIqR67f7e96325b299717\n",
      "Saved 2961.json\n",
      "requesting https://perenual.com/api/v2/species/details/2962?key=sk-CIqR67f7e96325b299717\n",
      "Saved 2962.json\n",
      "requesting https://perenual.com/api/v2/species/details/2963?key=sk-CIqR67f7e96325b299717\n",
      "Saved 2963.json\n",
      "requesting https://perenual.com/api/v2/species/details/2965?key=sk-CIqR67f7e96325b299717\n",
      "Saved 2965.json\n",
      "requesting https://perenual.com/api/v2/species/details/2976?key=sk-CIqR67f7e96325b299717\n",
      "Saved 2976.json\n"
     ]
    }
   ],
   "source": [
    "PERENUAL_API_URL = \"https://perenual.com/api/v2/species/details/\"\n",
    "PERENUAL_API_KEY = \"sk-CIqR67f7e96325b299717\"\n",
    "\n",
    "for id in ids_in_list:\n",
    "    url = f\"{PERENUAL_API_URL}{id}?key={PERENUAL_API_KEY}\"\n",
    "    print(f\"requesting {url}\")\n",
    "\n",
    "    payload = {}\n",
    "    headers = {}\n",
    "\n",
    "    response = requests.request(\"GET\", url, headers=headers, data=payload)\n",
    "\n",
    "    if response.status_code == 200:\n",
    "        # parse the JSON response\n",
    "        data = response.json()\n",
    "        # save the JSON data to a json file\n",
    "        with open(os.path.join(JSON_DATA_PATH, f\"{id}.json\"), 'w') as json_file:\n",
    "            json.dump(data, json_file, indent=4)\n",
    "        print(f\"Saved {id}.json\")\n",
    "    elif response.status_code == 429:\n",
    "        print(\"Max API requests reached. Try again tomorrow.\")\n",
    "        break\n",
    "    else:\n",
    "        print(\"Some error occurred.\")\n",
    "        break\n"
   ]
  }
 ],
 "metadata": {
  "kernelspec": {
   "display_name": "Python 3",
   "language": "python",
   "name": "python3"
  },
  "language_info": {
   "codemirror_mode": {
    "name": "ipython",
    "version": 3
   },
   "file_extension": ".py",
   "mimetype": "text/x-python",
   "name": "python",
   "nbconvert_exporter": "python",
   "pygments_lexer": "ipython3",
   "version": "3.12.7"
  }
 },
 "nbformat": 4,
 "nbformat_minor": 5
}
